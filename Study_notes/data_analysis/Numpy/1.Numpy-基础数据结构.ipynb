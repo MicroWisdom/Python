{
 "cells": [
  {
   "cell_type": "markdown",
   "metadata": {},
   "source": [
    "'''\n",
    "Numpy——Python开源的科学计算工具包\n",
    "高级的数值编程工具\n",
    "强大的N维数组对象：ndarray\n",
    "对数组结构数据进行运算（不用遍历循环）\n",
    "随机数、线性代数、傅立叶变换等功能\n",
    "\n",
    "Numpy基础数据结构\n",
    "Numpy通用函数\n",
    "Numpy索引及切片\n",
    "Numpy随机数\n",
    "Numpy数据的输入输出\n",
    "\n",
    "'''"
   ]
  },
  {
   "cell_type": "markdown",
   "metadata": {},
   "source": [
    "# Numpy基础数据结构"
   ]
  },
  {
   "cell_type": "code",
   "execution_count": 7,
   "metadata": {},
   "outputs": [
    {
     "name": "stdout",
     "output_type": "stream",
     "text": [
      "[1 2 3 4 5] <class 'numpy.ndarray'>\n",
      "[1 2 3 4 5]\n",
      "[[ 1  2  3  4  5]\n",
      " [ 6  7  8  9 10]]\n",
      "----------------------------\n",
      "[[ 1  2  3  4  5]\n",
      " [ 6  7  8  9 10]]\n",
      "----------------------------\n",
      "----------------------------\n",
      "[[ 1  2  3  4  5]\n",
      " [ 6  7  8  9 10]]\n",
      "----------------------------\n",
      "[[[['a' 'b' 'c' 'd' 'e']\n",
      "   ['1' '2' '3' '4' '5']]]\n",
      "\n",
      "\n",
      " [[['a' 'b' 'c' 'd' 'e']\n",
      "   ['6' '7' '8' '9' '10']]]] <class 'numpy.ndarray'>\n"
     ]
    }
   ],
   "source": [
    "# Numpy数组ndarray\n",
    "# 注意与list打印出来的区别，list用，号分隔元素。array没有分隔。\n",
    "# 引入numpy这个包，并改名为np\n",
    "import numpy as np\n",
    "\n",
    "# 用.array创建np的数组，类型是numpy.ndarray\n",
    "# .array()是个方法，所以后面的小括号是必须的。\n",
    "# 小括号里是要生成的数组的内容，可以用小括号()也可以用中括号[]\n",
    "ar = np.array((1,2,3,4,5))\n",
    "ar1 = np.array([1,2,3,4,5])\n",
    "print(ar, type(ar))\n",
    "print(ar1)\n",
    "\n",
    "# 二三维数组\n",
    "# 二维数组是由两个一维数组组成的。\n",
    "# 三维数组是由两个二维数组组成的。\n",
    "# 大家刚开始可能各种括号有些乱，我是这样区分的。\n",
    "# 以[[1,2,3,4,5,],[6,7,8,9,10]]为例子：\n",
    "# 最外层[]跟一维数组的理解一样。\n",
    "# 内层[1,2,3,4,5,]是第一个一维数组\n",
    "# 内层[6,7,8,9,10]是第二个一维数组\n",
    "# 中间的,号是区分这两个数组\n",
    "ar2 = np.array([[1,2,3,4,5,],[6,7,8,9,10]])\n",
    "ar3 = np.array(([1,2,3,4,5],[6,7,8,9,10]))\n",
    "print(ar2)\n",
    "print('----------------------------')\n",
    "print(ar3)\n",
    "print('----------------------------')\n",
    "# 三维数组\n",
    "# 注意，由于元素中有字符，所以整个数组的元素都会变成字符。\n",
    "ar4 = np.array([[(['a','b','c','d','e'],[1,2,3,4,5])],[(['a','b','c','d','e'],[6,7,8,9,10])]])\n",
    "\n",
    "print('----------------------------')\n",
    "print(ar3)\n",
    "print('----------------------------')\n",
    "print(ar4,type(ar4))"
   ]
  },
  {
   "cell_type": "markdown",
   "metadata": {},
   "source": [
    "# 数组的生成方法"
   ]
  },
  {
   "cell_type": "code",
   "execution_count": 16,
   "metadata": {},
   "outputs": [
    {
     "name": "stdout",
     "output_type": "stream",
     "text": [
      "[0 1 2 3 4 5 6 7 8 9] <class 'numpy.ndarray'>\n",
      "[0 1 2 3 4 5 6 7 8 9] <class 'numpy.ndarray'>\n",
      "[0. 1. 2. 3. 4.] <class 'numpy.ndarray'>\n",
      "[0 2 4 6 8]\n",
      "[list([1, 2, 3, 4, 5]) list([6, 7, 8, 9, 10, 'a', 'b'])]\n",
      "[[ 1  2  3  4  5]\n",
      " [ 6  7  8  9 10]]\n",
      "注意数组维度---> 1\n",
      "注意数组维度---> 2\n",
      "[ 1.          2.27272727  3.54545455  4.81818182  6.09090909  7.36363636\n",
      "  8.63636364  9.90909091 11.18181818 12.45454545 13.72727273 15.        ]\n",
      "[ 1.   2.4  3.8  5.2  6.6  8.   9.4 10.8 12.2 13.6 15. ]\n",
      "[ 1.   2.4  3.8  5.2  6.6  8.   9.4 10.8 12.2 13.6]\n",
      "-----------------------------\n",
      "(array([ 1.        ,  2.55555556,  4.11111111,  5.66666667,  7.22222222,\n",
      "        8.77777778, 10.33333333, 11.88888889, 13.44444444, 15.        ]), 1.5555555555555556)\n",
      "注意是元祖---> <class 'tuple'>\n",
      "数组--> [ 1.          2.55555556  4.11111111  5.66666667  7.22222222  8.77777778\n",
      " 10.33333333 11.88888889 13.44444444 15.        ]\n",
      "-----------------------------\n",
      "步长--> 1.5555555555555556\n",
      "10个元素为0的数组： \n",
      " [0. 0. 0. 0. 0. 0. 0. 0. 0. 0.]\n",
      "10个元素为1的数组： \n",
      " [1. 1. 1. 1. 1. 1. 1. 1. 1. 1.]\n",
      "2行5列二维数组---> \n",
      " [[0. 0. 0. 0. 0.]\n",
      " [0. 0. 0. 0. 0.]]\n",
      "3行5列二维数组---> \n",
      " [[0. 0. 0. 0. 0.]\n",
      " [0. 0. 0. 0. 0.]\n",
      " [0. 0. 0. 0. 0.]]\n",
      "三维数组---> \n",
      " [[[0. 0. 0. 0. 0.]\n",
      "  [0. 0. 0. 0. 0.]\n",
      "  [0. 0. 0. 0. 0.]]\n",
      "\n",
      " [[0. 0. 0. 0. 0.]\n",
      "  [0. 0. 0. 0. 0.]\n",
      "  [0. 0. 0. 0. 0.]]]\n",
      "几维数组？？--> 3\n",
      "2行5列二维数组---> \n",
      " [[1. 1. 1. 1. 1.]\n",
      " [1. 1. 1. 1. 1.]]\n",
      "3行5列二维数组---> \n",
      " [[1. 1. 1. 1. 1.]\n",
      " [1. 1. 1. 1. 1.]\n",
      " [1. 1. 1. 1. 1.]]\n",
      "三维数组---> \n",
      " [[[1. 1. 1. 1. 1.]\n",
      "  [1. 1. 1. 1. 1.]\n",
      "  [1. 1. 1. 1. 1.]]\n",
      "\n",
      " [[1. 1. 1. 1. 1.]\n",
      "  [1. 1. 1. 1. 1.]\n",
      "  [1. 1. 1. 1. 1.]]]\n",
      "几维数组？？--> 3\n",
      "前面定义的一个二维数组： \n",
      " [[ 1  2  3  4  5]\n",
      " [ 6  7  8  9 10]]\n",
      "生成一个和ar2形状相同的全0数组： \n",
      " [[0 0 0 0 0]\n",
      " [0 0 0 0 0]]\n",
      "生成一个和ar2形状相同的全1数组： \n",
      " [[1 1 1 1 1]\n",
      " [1 1 1 1 1]]\n",
      "生成一个4×4的矩阵： \n",
      " [[1. 0. 0. 0.]\n",
      " [0. 1. 0. 0.]\n",
      " [0. 0. 1. 0.]\n",
      " [0. 0. 0. 1.]]\n"
     ]
    }
   ],
   "source": [
    "# 对于array生成数组的说明，.array()括号里可以是列表、元祖、数组、生成器等等\n",
    "# 通过range()生成一个0-9的list,并通过array转换成数组。\n",
    "ar_r = np.array(range(10))\n",
    "print(ar_r,type(ar_r))\n",
    "# 通过Numpy自己的arange直接生成数组。\n",
    "ar_ar = np.arange(10)\n",
    "print(ar_ar,type(ar_ar))\n",
    "\n",
    "# 如果arange()括号里面的数带小数点的话，例如5.0就变成浮点型了。\n",
    "ar_r1 = np.arange(5.0)\n",
    "print(ar_r1,type(ar_r1))\n",
    "# 跟range()一样，可以通过最后一个参数来控制步长。\n",
    "print(np.arange(0,10,2))\n",
    "\n",
    "\n",
    "# 通过列表直接生成数组时，前后两个列表如果元素个数不同的话，会导致的整个数组维度变化。\n",
    "ar5 = np.array([[1,2,3,4,5,],[6,7,8,9,10,'a','b']])\n",
    "ar5_1 = np.array([[1,2,3,4,5,],[6,7,8,9,10,]])\n",
    "print(ar5)\n",
    "print(ar5_1)\n",
    "print('注意数组维度--->',ar5.ndim)\n",
    "print('注意数组维度--->',ar5_1.ndim)\n",
    "# .linspace()有五个常用参数（开始，结束，个数，是否包含最后一个数，显示步长），如果最后一个参数不指定就包括“开始”和“结束”这两个值。\n",
    "# 注意\n",
    "# 1、由于包括开始和结束，所以在进行间隔分段的时候经常出现带小数的，而且小数的位数很多。\n",
    "# 2、想避开很多小数位的话，可以调整分隔数\n",
    "# 3、如果步长参数retstep = True的话，那么生成的就是元祖了。\n",
    "\n",
    "# 从1开始到15，共分12份\n",
    "print(np.linspace(1,15,num = 12))\n",
    "\n",
    "# 从1开始到15，共分11份\n",
    "print(np.linspace(1,15,num = 11))\n",
    "\n",
    "# 从1开始到15，共分10份,但不包含最后一个数15 retstep\n",
    "print(np.linspace(1,15,num = 10,endpoint = False))\n",
    "print('-----------------------------')\n",
    "\n",
    "#从1开始到15，共分10份,显示步长\n",
    "s = np.linspace(1,15,num = 10,retstep = True)\n",
    "print(s)\n",
    "print('注意是元祖--->',type(s))\n",
    "\n",
    "# 通过下标访问的话，第一个是数组本身，第二个是步长\n",
    "print('数组-->',s[0])\n",
    "print('-----------------------------')\n",
    "print('步长-->',s[1])\n",
    "\n",
    "# zeros()/zeros_like()/ones()/ones_like() eye()\n",
    "\n",
    "# .zeros()生成元素全部为0的数组，zeros(shape, dtype=float, order='C')\n",
    "# .ones()生成元素全部为1的数组，ones(shape, dtype=None, order='C')\n",
    "\n",
    "# 生成10个元素为0的数组\n",
    "print('10个元素为0的数组：','\\n',np.zeros(10))\n",
    "# 生成10个元素为1的数组\n",
    "print('10个元素为1的数组：','\\n',np.ones(10))\n",
    "\n",
    "# 生成2行5列的二维全0数组\n",
    "# 注意括号里的写发，参数第一个是shape也就是形状，\n",
    "print('2行5列二维数组--->','\\n',np.zeros((2,5)))\n",
    "print('3行5列二维数组--->','\\n',np.zeros((3,5)))\n",
    "\n",
    "s1 = np.zeros((2,3,5))\n",
    "print('三维数组--->','\\n',s1)\n",
    "print('几维数组？？-->',s1.ndim)\n",
    "# ones()同样是\n",
    "print('2行5列二维数组--->','\\n',np.ones((2,5)))\n",
    "print('3行5列二维数组--->','\\n',np.ones((3,5)))\n",
    "s2 = np.ones((2,3,5))\n",
    "print('三维数组--->','\\n',s2)\n",
    "print('几维数组？？-->',s2.ndim)\n",
    "# .zeros_like()生成一个和参数形状相同的全0数组。\n",
    "# .ones_like()生成一个和参数形状相同的全1数组。\n",
    "print('前面定义的一个二维数组：','\\n',ar2)\n",
    "print('生成一个和ar2形状相同的全0数组：','\\n',np.zeros_like(ar2))\n",
    "print('生成一个和ar2形状相同的全1数组：','\\n',np.ones_like(ar2))\n",
    "\n",
    "\n",
    "# eye()生成一个正方的N×N的矩阵数组，其中对角线值为1，其他的为0\n",
    "print('生成一个4×4的矩阵：','\\n',np.eye(4))"
   ]
  },
  {
   "cell_type": "code",
   "execution_count": 10,
   "metadata": {},
   "outputs": [
    {
     "name": "stdout",
     "output_type": "stream",
     "text": [
      "1\n",
      "2\n",
      "4\n"
     ]
    }
   ],
   "source": [
    "# ndarray.ndim 查看数组的维度，也就是看是几维数组\n",
    "# 查看之前定义的ar、ar2和ar4是几维数组\n",
    "print(ar.ndim)\n",
    "print(ar2.ndim)\n",
    "print(ar4.ndim)"
   ]
  },
  {
   "cell_type": "code",
   "execution_count": 11,
   "metadata": {},
   "outputs": [
    {
     "name": "stdout",
     "output_type": "stream",
     "text": [
      "(5,)\n",
      "(2, 5)\n",
      "[[1]\n",
      " [2]] \n",
      " (2, 1)\n"
     ]
    }
   ],
   "source": [
    "# ndarray.shape 查看数组的形状或者说是尺寸，就是几行几列 如n行m列（n，m）\n",
    "\n",
    "# ar是0行列5列\n",
    "# ar2是2行5列\n",
    "print(ar.shape)\n",
    "print(ar2.shape)\n",
    "\n",
    "# 看一个特别的例子\n",
    "ar6 = np.array([[1],[2]])\n",
    "print(ar6,'\\n',ar6.shape)"
   ]
  },
  {
   "cell_type": "code",
   "execution_count": 12,
   "metadata": {},
   "outputs": [
    {
     "name": "stdout",
     "output_type": "stream",
     "text": [
      "5\n",
      "10\n",
      "20\n"
     ]
    }
   ],
   "source": [
    "# ndarray.size 查看数组中元素的总个数\n",
    "print(ar.size)\n",
    "print(ar2.size)\n",
    "print(ar4.size)"
   ]
  },
  {
   "cell_type": "code",
   "execution_count": 13,
   "metadata": {},
   "outputs": [
    {
     "name": "stdout",
     "output_type": "stream",
     "text": [
      "<class 'numpy.ndarray'> \n",
      " int32\n"
     ]
    }
   ],
   "source": [
    "# ndarray.dtype 查看数组中元素的类型。\n",
    "# 另外NumPy提供它自己的类型。numpy.int32，numpy.int16和numpy.float64是一些例子。\n",
    "# 注意与.type的区别\n",
    "\n",
    "print(type(ar2),'\\n',ar2.dtype)"
   ]
  },
  {
   "cell_type": "code",
   "execution_count": 14,
   "metadata": {},
   "outputs": [
    {
     "name": "stdout",
     "output_type": "stream",
     "text": [
      "4\n"
     ]
    }
   ],
   "source": [
    "# ndarray.itemsize 查看数组中每个元素的字节大小\n",
    "print(ar2.itemsize)"
   ]
  },
  {
   "cell_type": "code",
   "execution_count": 15,
   "metadata": {
    "scrolled": true
   },
   "outputs": [
    {
     "name": "stdout",
     "output_type": "stream",
     "text": [
      "<memory at 0x000002782F10F1F8>\n"
     ]
    }
   ],
   "source": [
    "# ndarray.data 查看数组中元素的缓冲区。\n",
    "# 一般很少会用到这个，用的比较多的是用索引来范围各个元素。\n",
    "print(ar3.data)"
   ]
  },
  {
   "cell_type": "code",
   "execution_count": 144,
   "metadata": {},
   "outputs": [
    {
     "name": "stdout",
     "output_type": "stream",
     "text": [
      "<class 'list'>\n",
      "<class 'dict'>\n",
      "[1 2 'a' 'hello' list([1, 2, 3]) {'two': 200, 'three': 200}]\n",
      "(6,)\n",
      "[['1' '2' '3' '4' '5' '6']\n",
      " ['a' 'b' 'c' 'd' 'e' 'f']\n",
      " ['True' 'False' 'True' 'False' 'True' 'True']]\n",
      "(3, 6)\n",
      "[ 5.  6.  7.  8.  9. 10. 11. 12. 13. 14.]\n",
      "[[0. 0. 0. 0.]\n",
      " [0. 0. 0. 0.]\n",
      " [0. 0. 0. 0.]\n",
      " [0. 0. 0. 0.]]\n",
      "[[1. 1. 1.]\n",
      " [1. 1. 1.]\n",
      " [1. 1. 1.]]\n",
      "[[1. 0. 0.]\n",
      " [0. 1. 0.]\n",
      " [0. 0. 1.]]\n"
     ]
    }
   ],
   "source": [
    "# 作业1\n",
    "zy1 = np.array((1,2,'a','hello',[1,2,3],{'two':200,'three':200}))\n",
    "print(type(zy1[4]))\n",
    "print(type(zy1[-1]))\n",
    "print(zy1)\n",
    "print(zy1.shape)\n",
    "\n",
    "#作业2\n",
    "zy2 = np.array([[1,2,3,4,5,6,],['a','b','c','d','e','f'],['True','False','True','False','True','True']])\n",
    "print(zy2)\n",
    "print(zy2.shape)\n",
    "\n",
    "#作业3\n",
    "zy3 = np.linspace(5,15,num = 10,endpoint = False)\n",
    "print(zy3)\n",
    "\n",
    "#作业4\n",
    "print(np.zeros((4,4)))\n",
    "print(np.ones((3,3)))\n",
    "print(np.eye(3))"
   ]
  },
  {
   "cell_type": "code",
   "execution_count": null,
   "metadata": {},
   "outputs": [],
   "source": []
  }
 ],
 "metadata": {
  "kernelspec": {
   "display_name": "Python 3",
   "language": "python",
   "name": "python3"
  },
  "language_info": {
   "codemirror_mode": {
    "name": "ipython",
    "version": 3
   },
   "file_extension": ".py",
   "mimetype": "text/x-python",
   "name": "python",
   "nbconvert_exporter": "python",
   "pygments_lexer": "ipython3",
   "version": "3.6.4"
  }
 },
 "nbformat": 4,
 "nbformat_minor": 2
}
