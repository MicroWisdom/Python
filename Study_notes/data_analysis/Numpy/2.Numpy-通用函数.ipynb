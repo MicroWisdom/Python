{
 "cells": [
  {
   "cell_type": "markdown",
   "metadata": {},
   "source": [
    "#  Numpy通用函数\n",
    "##  主要是针对数组的操作"
   ]
  },
  {
   "cell_type": "markdown",
   "metadata": {},
   "source": [
    "### 一、数组形状\n",
    "###         注意： .T/.reshape()/.resize()都是生成新的数组！！！"
   ]
  },
  {
   "cell_type": "code",
   "execution_count": 1,
   "metadata": {},
   "outputs": [],
   "source": [
    "# 数组形状：.T/.reshape()/.resize()\n",
    "import numpy as np"
   ]
  },
  {
   "cell_type": "markdown",
   "metadata": {},
   "source": [
    "### numpy.T ：转置，例如原shape为(3,4)/(2,3,4)，转置结果为(4,3)/(4,3,2) → 所以一维数组转置后结果不变"
   ]
  },
  {
   "cell_type": "code",
   "execution_count": 25,
   "metadata": {},
   "outputs": [
    {
     "name": "stdout",
     "output_type": "stream",
     "text": [
      "[ 1  2  3  4  5  6  7  8  9 10]\n",
      "[[0. 0. 0. 0. 0.]\n",
      " [0. 0. 0. 0. 0.]]\n",
      "----------上面是原数组--------------\n",
      "[ 1  2  3  4  5  6  7  8  9 10]\n",
      "[[0. 0.]\n",
      " [0. 0.]\n",
      " [0. 0.]\n",
      " [0. 0.]\n",
      " [0. 0.]]\n"
     ]
    }
   ],
   "source": [
    "ar1 = np.arange(1,11)\n",
    "ar2 = np.zeros((2,5))\n",
    "print(ar1)\n",
    "print(ar2)\n",
    "print('----------上面是原数组--------------')\n",
    "# 注意：一维数组在转置后没有任何变化。\n",
    "print(ar1.T)\n",
    "# 二维数组原来是(2,5)也就是2行5列，转置后变成5行2列。\n",
    "print(ar2.T)\n"
   ]
  },
  {
   "cell_type": "markdown",
   "metadata": {},
   "source": [
    "### numpy.reshape(a, newshape, order='C')：为数组提供新形状，而不更改其数据，所以元素数量需要一致！"
   ]
  },
  {
   "cell_type": "code",
   "execution_count": 26,
   "metadata": {},
   "outputs": [
    {
     "name": "stdout",
     "output_type": "stream",
     "text": [
      "[ 1  2  3  4  5  6  7  8  9 10]\n",
      "[[ 1  2  3  4  5]\n",
      " [ 6  7  8  9 10]]\n",
      "---------------------------------\n",
      "[[1. 1. 1. 1.]\n",
      " [1. 1. 1. 1.]\n",
      " [1. 1. 1. 1.]]\n",
      "[[1. 1.]\n",
      " [1. 1.]\n",
      " [1. 1.]\n",
      " [1. 1.]\n",
      " [1. 1.]\n",
      " [1. 1.]]\n",
      "---------------------------------\n",
      "[[0. 0. 0. 0. 0. 0. 0. 0. 0. 0. 0. 0. 0. 0. 0. 0. 0. 0. 0. 0. 0. 0. 0. 0.\n",
      "  0.]\n",
      " [0. 0. 0. 0. 0. 0. 0. 0. 0. 0. 0. 0. 0. 0. 0. 0. 0. 0. 0. 0. 0. 0. 0. 0.\n",
      "  0.]]\n",
      "---------------------------------\n",
      "[[ 0  1  2  3]\n",
      " [ 4  5  6  7]\n",
      " [ 8  9 10 11]\n",
      " [12 13 14 15]]\n"
     ]
    }
   ],
   "source": [
    "ar3 = np.ones((3,4))\n",
    "# 注意：在数组进行形状变化时，元素的个数一定要保持一致，\n",
    "# 原数组为一维的有10个元素，现在变成了(2,5)即2行5列，也是10个元素\n",
    "print(ar1)\n",
    "print(ar1.reshape(2,5))\n",
    "print('---------------------------------')\n",
    "\n",
    "\n",
    "# 原来的数组元素是(3,4)也就是3行4列共12个元素，变形后为(6,2)即6行2列共12个元素。\n",
    "print(ar3)\n",
    "print(ar3.reshape(6,2))\n",
    "print('---------------------------------')\n",
    "\n",
    "# 可直接在数组生成的时候改变形状\n",
    "print(np.zeros((5,10)).reshape(2,25))\n",
    "print('---------------------------------')\n",
    "\n",
    "# 可直接在方法内容写上形状并生成新的数组\n",
    "# 注意：1、参数之间括号不要丢失。2、元素个数要相同。\n",
    "print(np.reshape(np.arange(16),(4,4)))"
   ]
  },
  {
   "cell_type": "markdown",
   "metadata": {},
   "source": [
    "### numpy.resize(a, new_shape)：返回具有指定形状的新数组，如有必要可重复填充所需数量的元素。"
   ]
  },
  {
   "cell_type": "code",
   "execution_count": 27,
   "metadata": {},
   "outputs": [
    {
     "name": "stdout",
     "output_type": "stream",
     "text": [
      "[[0 1 2 3]\n",
      " [4 0 1 2]\n",
      " [3 4 0 1]]\n",
      "----------------\n",
      "[[ 0  1  2  3]\n",
      " [ 4  5  6  7]\n",
      " [ 8  9 10 11]]\n"
     ]
    }
   ],
   "source": [
    "# 生成的数组只有5个元素，但是resize要12个元素，所以进行了重复填充\n",
    "ar4 = np.resize(np.arange(5),(3,4))\n",
    "print(ar4)\n",
    "print('----------------')\n",
    "# 生成的数组有15个元素，但是resize要12个元素，所以将多余的元素删除了。\n",
    "ar5 = np.resize(np.arange(15),(3,4))\n",
    "print(ar5)"
   ]
  },
  {
   "cell_type": "code",
   "execution_count": 28,
   "metadata": {},
   "outputs": [
    {
     "name": "stdout",
     "output_type": "stream",
     "text": [
      "这是原数组：--> \n",
      " [0 1 2 3 4 5 6 7 8 9]\n",
      "这里不仅生成了新的数组，而且还改变了原数组 [[0 1 2 3]\n",
      " [4 5 6 7]\n",
      " [8 9 0 1]]\n",
      "-----------------------------\n",
      "这里原数组\"s\"已经被改变了：--> \n",
      " [0 1 2 3 4 5 6 7 8 9]\n"
     ]
    }
   ],
   "source": [
    "# 关于resize的特别说明\n",
    "s = np.arange(10)\n",
    "print('这是原数组：-->','\\n',s)\n",
    "\n",
    "# 如果对数组s直接用.resize()的话，是不生成数组的。\n",
    "#print('这里没有生成任何数组：-->',s.resize(3,4))\n",
    "# 如果通过np.resize()对s进行操作的话，不仅生成新数组，而且还修改了原数组“s”。\n",
    "print('这里不仅生成了新的数组，而且还改变了原数组',np.resize(s,(3,4)))\n",
    "\n",
    "# 关于上面这两句的说明：由于一个是传址一个传值，所以放在一个代码块里直接运行会报错，故将其中一句注释掉。\n",
    "\n",
    "print('-----------------------------')\n",
    "print('这里原数组\"s\"已经被改变了：-->','\\n',s)"
   ]
  },
  {
   "cell_type": "markdown",
   "metadata": {},
   "source": [
    "### 二、数组复制"
   ]
  },
  {
   "cell_type": "code",
   "execution_count": 24,
   "metadata": {},
   "outputs": [
    {
     "name": "stdout",
     "output_type": "stream",
     "text": [
      "True\n",
      "[  0   1 666   3   4   5   6   7   8   9]\n",
      "[  0   1 666   3   4   5   6   7   8   9]\n",
      "------------------------\n",
      "False\n",
      "[  0   1 666 777   4   5   6   7   8   9] [  0   1 666   3   4   5   6   7   8   9]\n",
      "数组a是这样的: \n",
      " [0 1 2 3 4 5 6 7]\n",
      "[[0 1 2 3 4]\n",
      " [5 6 7 0 1]] <class 'numpy.ndarray'>\n",
      "None\n"
     ]
    }
   ],
   "source": [
    "ar6 = np.arange(10)\n",
    "ar7 = ar6\n",
    "print(ar7 is ar6)\n",
    "# 指向内存中生成的一个值 → 这里ar6和ar7指向同一个值，所以ar7改变，ar6一起改变\n",
    "ar6[2] = 666\n",
    "print(ar6)\n",
    "print(ar7)\n",
    "print('------------------------')\n",
    "\n",
    "# copy方法生成数组及其数据的完整拷贝\n",
    "ar8 = ar6.copy()\n",
    "print(ar8 is ar6)\n",
    "ar6[3] = 777\n",
    "print(ar6,ar8)\n",
    "\n",
    "# 关于是传值还是传址的一些说明\n",
    "a = np.arange(8)\n",
    "print('数组a是这样的:','\\n',a)\n",
    "# 生成了新的数组。\n",
    "print(np.resize(a, (2,5)), type(np.resize(a, (2,5))))\n",
    "# 没有生成新的数组,结果是一个None\n",
    "print(a.resize(2,4))\n"
   ]
  },
  {
   "cell_type": "code",
   "execution_count": 7,
   "metadata": {},
   "outputs": [
    {
     "name": "stdout",
     "output_type": "stream",
     "text": [
      "[0. 1. 2. 3. 4. 5. 6. 7. 8. 9.] float64\n",
      "-----------------\n",
      "[0 1 2 3 4 5 6 7 8 9] int32\n",
      "[0. 1. 2. 3. 4. 5. 6. 7. 8. 9.] float64\n"
     ]
    }
   ],
   "source": [
    "# 数组类型转换：.astype()\n",
    "\n",
    "ar9 = np.arange(10,dtype=float)\n",
    "print(ar9,ar9.dtype)\n",
    "print('-----------------')\n",
    "\n",
    "# 可以在参数位置设置数组类型\n",
    "# a.astype()：转换数组类型\n",
    "# 注意：养成好习惯，数组类型用np.int32，而不是直接int32\n",
    "ar10 = ar9.astype(np.int32)\n",
    "print(ar10,ar10.dtype)\n",
    "print(ar9,ar9.dtype)"
   ]
  },
  {
   "cell_type": "code",
   "execution_count": 29,
   "metadata": {},
   "outputs": [
    {
     "name": "stdout",
     "output_type": "stream",
     "text": [
      "数组a: [0 1 2 3 4] (5,)\n",
      "数组b: [5 6 7 8] (4,)\n",
      "数组ar1： [0 1 2 3 4 5 6 7 8] (9,)\n",
      "二维数组a: \n",
      " [[1]\n",
      " [2]\n",
      " [3]] (3, 1)\n",
      "二维数组b: \n",
      " [['a']\n",
      " ['b']\n",
      " ['c']] (3, 1)\n",
      "二维数组ar2: \n",
      " [['1' 'a']\n",
      " ['2' 'b']\n",
      " ['3' 'c']] (3, 2)\n",
      "----------------------------\n",
      "数组a: [0 1 2 3 4] (5,)\n",
      "数组b: [5 6 7 8 9] (5,)\n",
      "数组ar1： [[0 1 2 3 4]\n",
      " [5 6 7 8 9]] (2, 5)\n",
      "数组a: \n",
      " [[1]\n",
      " [2]\n",
      " [3]] (3, 1)\n",
      "数组b: \n",
      " [['a']\n",
      " ['b']\n",
      " ['c']\n",
      " ['d']] (4, 1)\n",
      "数组ar2: \n",
      " [['1']\n",
      " ['2']\n",
      " ['3']\n",
      " ['a']\n",
      " ['b']\n",
      " ['c']\n",
      " ['d']] (7, 1)\n",
      "----------------------------\n"
     ]
    }
   ],
   "source": [
    "# 数组堆叠 hstack()：水平（按列顺序）堆叠数组\n",
    "# a为一维数组，5个元素\n",
    "a = np.arange(5) \n",
    "# b为一维数组,4个元素\n",
    "b = np.arange(5,9) \n",
    "\n",
    "# 对数组a和b进行水平（按列顺序）堆叠数组\n",
    "# 注意:((a,b))，这里形状可以不一样\n",
    "ar1 = np.hstack((a,b))  \n",
    "print('数组a:', a, a.shape)\n",
    "print('数组b:', b, b.shape)\n",
    "print('数组ar1：', ar1, ar1.shape)\n",
    "\n",
    "# a为二维数组，3行1列\n",
    "a = np.array([[1],[2],[3]])   \n",
    "# b为二维数组，3行1列\n",
    "b = np.array([['a'],['b'],['c']]) \n",
    "\n",
    "# 二维数组的堆叠\n",
    "ar2 = np.hstack((a,b))  \n",
    "print('二维数组a:','\\n', a, a.shape)\n",
    "print('二维数组b:','\\n', b, b.shape)\n",
    "print('二维数组ar2:','\\n', ar2 ,ar2.shape)\n",
    "print('----------------------------')\n",
    "\n",
    "# 数组堆叠 vstack()：垂直（按列顺序）堆叠数组\n",
    "a = np.arange(5)    \n",
    "b = np.arange(5,10)\n",
    "# 对数组a和b进行垂直（按列顺序）堆叠数组\n",
    "ar1 = np.vstack((a,b))\n",
    "print('数组a:', a, a.shape)\n",
    "print('数组b:', b, b.shape)\n",
    "print('数组ar1：', ar1, ar1.shape)\n",
    "\n",
    "a = np.array([[1],[2],[3]])\n",
    "b = np.array([['a'],['b'],['c'],['d']])   \n",
    "ar2 = np.vstack((a,b))  # 这里形状可以不一样\n",
    "print('数组a:','\\n', a, a.shape)\n",
    "print('数组b:','\\n', b, b.shape)\n",
    "print('数组ar2:','\\n', ar2 ,ar2.shape)\n",
    "print('----------------------------')"
   ]
  },
  {
   "cell_type": "markdown",
   "metadata": {},
   "source": [
    "## 对于堆叠stack()的说明"
   ]
  },
  {
   "cell_type": "code",
   "execution_count": 9,
   "metadata": {
    "scrolled": true
   },
   "outputs": [
    {
     "name": "stdout",
     "output_type": "stream",
     "text": [
      "[1 2 3 4 5 6] \n",
      " <class 'numpy.ndarray'> 1\n",
      "[11 12 13 14 15 16] \n",
      " <class 'numpy.ndarray'> 1\n",
      "[101 102 103 104 105 106] \n",
      " <class 'numpy.ndarray'> 1\n"
     ]
    }
   ],
   "source": [
    "# a b c分别是3个1维数组，每个数组都有5个元素\n",
    "a = np.arange(1, 7)\n",
    "b = np.arange(11, 17)\n",
    "c = np.arange(101, 107)\n",
    "# 查看数组，数组类型和维度\n",
    "print(a, '\\n', type(a), a.ndim)\n",
    "print(b, '\\n', type(b), b.ndim)\n",
    "print(c, '\\n', type(c), c.ndim)"
   ]
  },
  {
   "cell_type": "code",
   "execution_count": 10,
   "metadata": {},
   "outputs": [
    {
     "name": "stdout",
     "output_type": "stream",
     "text": [
      "[[  1   2   3   4   5   6]\n",
      " [ 11  12  13  14  15  16]\n",
      " [101 102 103 104 105 106]] <class 'numpy.ndarray'> \n",
      " 2\n",
      "_________________________\n",
      "[[  1  11 101]\n",
      " [  2  12 102]\n",
      " [  3  13 103]\n",
      " [  4  14 104]\n",
      " [  5  15 105]\n",
      " [  6  16 106]] <class 'numpy.ndarray'> \n",
      " 2\n",
      "_________________________\n"
     ]
    }
   ],
   "source": [
    "# 将数组a、b、c进行堆叠，并增加一个维度。堆叠方式是行。\n",
    "# 这里需要注意，axis的参数不是随便写的。与数组中元素的维度有关系，如果元素的维度是1，那么axis就只能是0和1。\n",
    "\n",
    "# 当axis=0的时候堆叠方式是以行的形式来进行。即现把数组a当作第一行，数组b当作第二行，数组c当作第三行。\n",
    "x = np.stack((a,b,c),axis = 0)\n",
    "print(x,type(x),'\\n',x.ndim)\n",
    "print('_________________________')\n",
    "# 当axis=1的时候堆叠方式是以列的形式来进行。即现把数组a当作第一列，数组b当作第二列，数组c当作第三列。\n",
    "y = np.stack((a,b,c),axis = 1)\n",
    "print(y,type(y),'\\n',y.ndim)\n",
    "print('_________________________')"
   ]
  },
  {
   "cell_type": "code",
   "execution_count": 33,
   "metadata": {},
   "outputs": [
    {
     "name": "stdout",
     "output_type": "stream",
     "text": [
      "[[3 4 5]\n",
      " [6 7 8]] \n",
      " <class 'numpy.ndarray'> 2\n",
      "[[13 14 15]\n",
      " [16 17 18]] \n",
      " <class 'numpy.ndarray'> 2\n",
      "[[103 104 105]\n",
      " [106 107 108]] \n",
      " <class 'numpy.ndarray'> 2\n"
     ]
    }
   ],
   "source": [
    "# d e f分别是3个2维数组，每个数组都有2个元素，数组的形状是2行3列。\n",
    "d = np.arange(3, 9).reshape((2, 3))\n",
    "e = np.arange(13, 19).reshape((2, 3))\n",
    "f = np.arange(103, 109).reshape((2, 3))\n",
    "# 查看数组，数组类型和维度\n",
    "print(d, '\\n', type(d), d.ndim)\n",
    "print(e, '\\n', type(e), e.ndim)\n",
    "print(f, '\\n', type(f), f.ndim)"
   ]
  },
  {
   "cell_type": "code",
   "execution_count": 32,
   "metadata": {},
   "outputs": [
    {
     "name": "stdout",
     "output_type": "stream",
     "text": [
      "当axis=0的时候堆叠方式是以行的形式来进行。即现把数组d当作第一行，数组e当作第二行，数组f当作第三行。\n",
      "[[[  3   4   5]\n",
      "  [  6   7   8]]\n",
      "\n",
      " [[ 13  14  15]\n",
      "  [ 16  17  18]]\n",
      "\n",
      " [[103 104 105]\n",
      "  [106 107 108]]] <class 'numpy.ndarray'> \n",
      " 3 (3, 2, 3)\n",
      "_________________________\n",
      "当axis=1的时候堆叠方式是以行的方式先拆分元素，然后在按行进行堆叠。可以看出第一个3*3的数组是由是d,e,f中每个数组的第一行堆叠而成\n",
      "[[[  3   4   5]\n",
      "  [ 13  14  15]\n",
      "  [103 104 105]]\n",
      "\n",
      " [[  6   7   8]\n",
      "  [ 16  17  18]\n",
      "  [106 107 108]]] <class 'numpy.ndarray'> \n",
      " 3 (2, 3, 3)\n",
      "_________________________\n",
      "当axis=2的时候堆叠方式是以列的方式先拆分元素，然后在按列进行堆叠。可以看到第一个3*3的数组是由d,e,f中的第一列向量组合而成\n",
      "[[[  3  13 103]\n",
      "  [  4  14 104]\n",
      "  [  5  15 105]]\n",
      "\n",
      " [[  6  16 106]\n",
      "  [  7  17 107]\n",
      "  [  8  18 108]]] <class 'numpy.ndarray'> \n",
      " 3 (2, 3, 3)\n"
     ]
    }
   ],
   "source": [
    "# 这里需要注意，axis的参数不是随便写的。与数组中元素的维度有关系，如果元素的维度是2，那么axis就只能是0、1、2。\n",
    "# 当axis=0的时候堆叠方式是以行的形式来进行。即现把数组a当作第一行，数组b当作第二行，数组c当作第三行。\n",
    "# 注意：下面print语句中的中文说明里，所写到的行和列，仅仅是对打印出的图形而言，不是真正的数组在空间中的表现。\n",
    "x = np.stack((d,e,f),axis = 0)\n",
    "print('当axis=0的时候堆叠方式是以行的形式来进行。即现把数组d当作第一行，数组e当作第二行，数组f当作第三行。')\n",
    "print(x,type(x),'\\n', x.ndim, x.shape)\n",
    "print('_________________________')\n",
    "print('当axis=1的时候堆叠方式是以行的方式先拆分元素，然后在按行进行堆叠。可以看出第一个3*3的数组是由是d,e,f中每个数组的第一行堆叠而成')\n",
    "y = np.stack((d,e,f),axis = 1)\n",
    "print(y,type(y),'\\n',y.ndim, y.shape)\n",
    "print('_________________________')\n",
    "print('当axis=2的时候堆叠方式是以列的方式先拆分元素，然后在按列进行堆叠。可以看到第一个3*3的数组是由d,e,f中的第一列向量组合而成')\n",
    "z = np.stack((d,e,f),axis = 2)\n",
    "print(z,type(z),'\\n',z.ndim, z.shape)"
   ]
  },
  {
   "cell_type": "code",
   "execution_count": 31,
   "metadata": {},
   "outputs": [
    {
     "name": "stdout",
     "output_type": "stream",
     "text": [
      "数组ar1： \n",
      " [array([[0],\n",
      "       [3],\n",
      "       [6]]), array([[1],\n",
      "       [4],\n",
      "       [7]]), array([[2],\n",
      "       [5],\n",
      "       [8]])] \n",
      " 元素的类型： <class 'list'>\n",
      "数组ar：  [[0 1 2]\n",
      " [3 4 5]\n",
      " [6 7 8]]\n",
      "数组ar中下标为2的元素： \n",
      " [[2]\n",
      " [5]\n",
      " [8]] \n",
      " 元素的类型： <class 'numpy.ndarray'>\n",
      "---------------------------------\n",
      "[array([[0, 1, 2]]), array([[3, 4, 5]]), array([[6, 7, 8]])] <class 'list'>\n"
     ]
    }
   ],
   "source": [
    "# 数组拆分 \n",
    "# numpy.hsplit(ary, indices_or_sections)：将数组水平（逐列）拆分为多个子数组 → 按列拆分\n",
    "\n",
    "\n",
    "# 再次强调reshape()的参数一定要和前面生成数组的个数保持一致。\n",
    "ar = np.arange(9).reshape(3,3)\n",
    "\n",
    "# 将数组ar差分成3个数组\n",
    "# ar1的输出结果为列表\n",
    "ar1 = np.hsplit(ar,3)\n",
    "print('数组ar1：','\\n',ar1, '\\n', '元素的类型：', type(ar1))\n",
    "print('数组ar： ', ar)\n",
    "# 列表中元素为数组\n",
    "ar2 = np.hsplit(ar,3)[2]\n",
    "print('数组ar中下标为2的元素：','\\n',ar2, '\\n', '元素的类型：', type(ar2))\n",
    "\n",
    "print('---------------------------------')\n",
    "# numpy.vsplit(ary, indices_or_sections):将数组垂直（行方向）拆分为多个子数组 → 按行拆\n",
    "ar2 = np.vsplit(ar,3)\n",
    "print(ar2,type(ar2))"
   ]
  },
  {
   "cell_type": "code",
   "execution_count": 30,
   "metadata": {},
   "outputs": [
    {
     "name": "stdout",
     "output_type": "stream",
     "text": [
      "[[10 11 12]\n",
      " [13 14 15]]\n",
      "[[ 0  2  4]\n",
      " [ 6  8 10]]\n",
      "[[1.         0.5        0.33333333]\n",
      " [0.25       0.2        0.16666667]]\n",
      "[[0.         1.         1.41421356]\n",
      " [1.73205081 2.         2.23606798]]\n",
      "2.5\n",
      "5\n",
      "0\n",
      "1.707825127659933\n",
      "2.9166666666666665\n",
      "15 [3 5 7]\n",
      "[1 2 3 4 5 6]\n"
     ]
    }
   ],
   "source": [
    "# 数组简单运算\n",
    "\n",
    "ar = np.arange(6).reshape(2,3)\n",
    "# 加法\n",
    "print(ar + 10) \n",
    "# 乘法\n",
    "print(ar * 2)   \n",
    "# 除法\n",
    "print(1 / (ar+1)) \n",
    "# 幂\n",
    "print(ar ** 0.5)  \n",
    "\n",
    "# 常用函数\n",
    "# 求平均值\n",
    "print(ar.mean())  \n",
    "# 求最大值\n",
    "print(ar.max()) \n",
    "# 求最小值\n",
    "print(ar.min())  \n",
    "# 求标准差\n",
    "print(ar.std()) \n",
    "# 求方差\n",
    "print(ar.var())  \n",
    "# 求和，np.sum() → axis为0，按列求和；axis为1，按行求和\n",
    "print(ar.sum(), np.sum(ar,axis = 0))  \n",
    "# 排序\n",
    "print(np.sort(np.array([1,4,3,2,5,6])))  "
   ]
  }
 ],
 "metadata": {
  "kernelspec": {
   "display_name": "Python 3",
   "language": "python",
   "name": "python3"
  },
  "language_info": {
   "codemirror_mode": {
    "name": "ipython",
    "version": 3
   },
   "file_extension": ".py",
   "mimetype": "text/x-python",
   "name": "python",
   "nbconvert_exporter": "python",
   "pygments_lexer": "ipython3",
   "version": "3.6.4"
  }
 },
 "nbformat": 4,
 "nbformat_minor": 2
}
